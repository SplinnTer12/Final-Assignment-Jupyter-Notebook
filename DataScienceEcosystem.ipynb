{
 "cells": [
  {
   "cell_type": "markdown",
   "id": "8cddd54c",
   "metadata": {},
   "source": [
    "# Data Science Tools and Ecosystem"
   ]
  },
  {
   "cell_type": "markdown",
   "id": "13e1361e",
   "metadata": {},
   "source": [
    "In this notebook, Data Science Tools and Ecosystem are summarized\n",
    "**Objectives:**\n",
    "List popular languages for Data Science\n",
    "-  languages that Data Scientists use\n",
    "- Some of the commonly used libraries used by Data Scientists\n",
    "- Data Science Tools\n",
    "- examples of evaluating arithmetic expressions in Python\n"
   ]
  },
  {
   "cell_type": "markdown",
   "id": "97759a74",
   "metadata": {},
   "source": [
    "Some of the popular languages that Data Scientists use are:\n",
    "1. python\n",
    "2. R\n",
    "3. sql\n",
    "4. java\n",
    "5. julia"
   ]
  },
  {
   "cell_type": "markdown",
   "id": "a2fdb47b",
   "metadata": {},
   "source": [
    "Some of the commonly used libraries used by Data Scientists include:\n",
    "\n",
    "1. plotly\n",
    "2. pandas\n",
    "3. scipy\n",
    "4. tensorfow\n"
   ]
  },
  {
   "cell_type": "markdown",
   "id": "d365932b",
   "metadata": {},
   "source": [
    "|Data Science Tools|\n",
    "|------------------|\n",
    "|anaconda|\n",
    "|GitHub|\n",
    "|jupyter notebook|"
   ]
  },
  {
   "cell_type": "markdown",
   "id": "e50fe39c",
   "metadata": {},
   "source": [
    "### Below are a few examples of evaluating arithmetic expressions in Python\n",
    "\n",
    "- x+y (addition)\n",
    "- x*y (multiplication)\n",
    "- x/y (division)\n",
    "- x//y (quotient)"
   ]
  },
  {
   "cell_type": "code",
   "execution_count": 1,
   "id": "2c61b76c",
   "metadata": {},
   "outputs": [
    {
     "data": {
      "text/plain": [
       "17"
      ]
     },
     "execution_count": 1,
     "metadata": {},
     "output_type": "execute_result"
    }
   ],
   "source": [
    "# This a simple arithmetic expression to mutiply then add integers\n",
    "(3*4)+5"
   ]
  },
  {
   "cell_type": "code",
   "execution_count": 6,
   "id": "041a6d26",
   "metadata": {},
   "outputs": [
    {
     "data": {
      "text/plain": [
       "3.3333333333333335"
      ]
     },
     "execution_count": 6,
     "metadata": {},
     "output_type": "execute_result"
    }
   ],
   "source": [
    "# This will convert 200 minutes to hours by diving by 60\n",
    "mm=200\n",
    "h=200/60\n",
    "h"
   ]
  },
  {
   "cell_type": "markdown",
   "id": "bc7c9a16",
   "metadata": {},
   "source": [
    "## Author\n",
    "AZIZ BEN MAAOUIA"
   ]
  },
  {
   "cell_type": "code",
   "execution_count": null,
   "id": "834d74b3",
   "metadata": {},
   "outputs": [],
   "source": []
  }
 ],
 "metadata": {
  "kernelspec": {
   "display_name": "Python 3 (ipykernel)",
   "language": "python",
   "name": "python3"
  },
  "language_info": {
   "codemirror_mode": {
    "name": "ipython",
    "version": 3
   },
   "file_extension": ".py",
   "mimetype": "text/x-python",
   "name": "python",
   "nbconvert_exporter": "python",
   "pygments_lexer": "ipython3",
   "version": "3.11.5"
  }
 },
 "nbformat": 4,
 "nbformat_minor": 5
}
